{
    "cells": [
        {
            "cell_type": "markdown",
            "source": [
                "# Using linear regression to predict final student grades\n",
                "\n",
                "In this notebook, I will be using the linear regression algorithm to predict a student's final grades based on\n",
                "\n",
                "* first term grades\n",
                "* second term grades\n",
                "* time spent studying\n",
                "* relationship with family\n",
                "* health"
            ],
            "metadata": {}
        },
        {
            "cell_type": "code",
            "execution_count": 1,
            "source": [
                "import numpy as np\n",
                "import pandas as pd"
            ],
            "outputs": [],
            "metadata": {}
        },
        {
            "cell_type": "code",
            "execution_count": 2,
            "source": [
                "from sklearn.linear_model import LinearRegression\n",
                "from sklearn.model_selection import train_test_split\n",
                "from sklearn import metrics"
            ],
            "outputs": [],
            "metadata": {}
        },
        {
            "cell_type": "markdown",
            "source": [
                "## Taking a look at the data\n",
                "\n",
                "First, I wanted to select a good breadth of attributes to best utilize the data gathered. My selection of attributes suggested the use of linear regression.\n",
                "\n",
                "I had hesitations since I have typically seen linear regression done with one or two independent variables in my training data. For the sake of this notebook, I wanted to see how a multiple linear regression model performed."
            ],
            "metadata": {}
        },
        {
            "cell_type": "code",
            "execution_count": 3,
            "source": [
                "df = pd.read_csv('student-mat.csv', sep=\";\")\n",
                "df.head()"
            ],
            "outputs": [
                {
                    "output_type": "execute_result",
                    "data": {
                        "text/plain": [
                            "  school sex  age address famsize Pstatus  Medu  Fedu     Mjob      Fjob  ...  \\\n",
                            "0     GP   F   18       U     GT3       A     4     4  at_home   teacher  ...   \n",
                            "1     GP   F   17       U     GT3       T     1     1  at_home     other  ...   \n",
                            "2     GP   F   15       U     LE3       T     1     1  at_home     other  ...   \n",
                            "3     GP   F   15       U     GT3       T     4     2   health  services  ...   \n",
                            "4     GP   F   16       U     GT3       T     3     3    other     other  ...   \n",
                            "\n",
                            "  famrel freetime  goout  Dalc  Walc health absences  G1  G2  G3  \n",
                            "0      4        3      4     1     1      3        6   5   6   6  \n",
                            "1      5        3      3     1     1      3        4   5   5   6  \n",
                            "2      4        3      2     2     3      3       10   7   8  10  \n",
                            "3      3        2      2     1     1      5        2  15  14  15  \n",
                            "4      4        3      2     1     2      5        4   6  10  10  \n",
                            "\n",
                            "[5 rows x 33 columns]"
                        ],
                        "text/html": [
                            "<div>\n",
                            "<style scoped>\n",
                            "    .dataframe tbody tr th:only-of-type {\n",
                            "        vertical-align: middle;\n",
                            "    }\n",
                            "\n",
                            "    .dataframe tbody tr th {\n",
                            "        vertical-align: top;\n",
                            "    }\n",
                            "\n",
                            "    .dataframe thead th {\n",
                            "        text-align: right;\n",
                            "    }\n",
                            "</style>\n",
                            "<table border=\"1\" class=\"dataframe\">\n",
                            "  <thead>\n",
                            "    <tr style=\"text-align: right;\">\n",
                            "      <th></th>\n",
                            "      <th>school</th>\n",
                            "      <th>sex</th>\n",
                            "      <th>age</th>\n",
                            "      <th>address</th>\n",
                            "      <th>famsize</th>\n",
                            "      <th>Pstatus</th>\n",
                            "      <th>Medu</th>\n",
                            "      <th>Fedu</th>\n",
                            "      <th>Mjob</th>\n",
                            "      <th>Fjob</th>\n",
                            "      <th>...</th>\n",
                            "      <th>famrel</th>\n",
                            "      <th>freetime</th>\n",
                            "      <th>goout</th>\n",
                            "      <th>Dalc</th>\n",
                            "      <th>Walc</th>\n",
                            "      <th>health</th>\n",
                            "      <th>absences</th>\n",
                            "      <th>G1</th>\n",
                            "      <th>G2</th>\n",
                            "      <th>G3</th>\n",
                            "    </tr>\n",
                            "  </thead>\n",
                            "  <tbody>\n",
                            "    <tr>\n",
                            "      <th>0</th>\n",
                            "      <td>GP</td>\n",
                            "      <td>F</td>\n",
                            "      <td>18</td>\n",
                            "      <td>U</td>\n",
                            "      <td>GT3</td>\n",
                            "      <td>A</td>\n",
                            "      <td>4</td>\n",
                            "      <td>4</td>\n",
                            "      <td>at_home</td>\n",
                            "      <td>teacher</td>\n",
                            "      <td>...</td>\n",
                            "      <td>4</td>\n",
                            "      <td>3</td>\n",
                            "      <td>4</td>\n",
                            "      <td>1</td>\n",
                            "      <td>1</td>\n",
                            "      <td>3</td>\n",
                            "      <td>6</td>\n",
                            "      <td>5</td>\n",
                            "      <td>6</td>\n",
                            "      <td>6</td>\n",
                            "    </tr>\n",
                            "    <tr>\n",
                            "      <th>1</th>\n",
                            "      <td>GP</td>\n",
                            "      <td>F</td>\n",
                            "      <td>17</td>\n",
                            "      <td>U</td>\n",
                            "      <td>GT3</td>\n",
                            "      <td>T</td>\n",
                            "      <td>1</td>\n",
                            "      <td>1</td>\n",
                            "      <td>at_home</td>\n",
                            "      <td>other</td>\n",
                            "      <td>...</td>\n",
                            "      <td>5</td>\n",
                            "      <td>3</td>\n",
                            "      <td>3</td>\n",
                            "      <td>1</td>\n",
                            "      <td>1</td>\n",
                            "      <td>3</td>\n",
                            "      <td>4</td>\n",
                            "      <td>5</td>\n",
                            "      <td>5</td>\n",
                            "      <td>6</td>\n",
                            "    </tr>\n",
                            "    <tr>\n",
                            "      <th>2</th>\n",
                            "      <td>GP</td>\n",
                            "      <td>F</td>\n",
                            "      <td>15</td>\n",
                            "      <td>U</td>\n",
                            "      <td>LE3</td>\n",
                            "      <td>T</td>\n",
                            "      <td>1</td>\n",
                            "      <td>1</td>\n",
                            "      <td>at_home</td>\n",
                            "      <td>other</td>\n",
                            "      <td>...</td>\n",
                            "      <td>4</td>\n",
                            "      <td>3</td>\n",
                            "      <td>2</td>\n",
                            "      <td>2</td>\n",
                            "      <td>3</td>\n",
                            "      <td>3</td>\n",
                            "      <td>10</td>\n",
                            "      <td>7</td>\n",
                            "      <td>8</td>\n",
                            "      <td>10</td>\n",
                            "    </tr>\n",
                            "    <tr>\n",
                            "      <th>3</th>\n",
                            "      <td>GP</td>\n",
                            "      <td>F</td>\n",
                            "      <td>15</td>\n",
                            "      <td>U</td>\n",
                            "      <td>GT3</td>\n",
                            "      <td>T</td>\n",
                            "      <td>4</td>\n",
                            "      <td>2</td>\n",
                            "      <td>health</td>\n",
                            "      <td>services</td>\n",
                            "      <td>...</td>\n",
                            "      <td>3</td>\n",
                            "      <td>2</td>\n",
                            "      <td>2</td>\n",
                            "      <td>1</td>\n",
                            "      <td>1</td>\n",
                            "      <td>5</td>\n",
                            "      <td>2</td>\n",
                            "      <td>15</td>\n",
                            "      <td>14</td>\n",
                            "      <td>15</td>\n",
                            "    </tr>\n",
                            "    <tr>\n",
                            "      <th>4</th>\n",
                            "      <td>GP</td>\n",
                            "      <td>F</td>\n",
                            "      <td>16</td>\n",
                            "      <td>U</td>\n",
                            "      <td>GT3</td>\n",
                            "      <td>T</td>\n",
                            "      <td>3</td>\n",
                            "      <td>3</td>\n",
                            "      <td>other</td>\n",
                            "      <td>other</td>\n",
                            "      <td>...</td>\n",
                            "      <td>4</td>\n",
                            "      <td>3</td>\n",
                            "      <td>2</td>\n",
                            "      <td>1</td>\n",
                            "      <td>2</td>\n",
                            "      <td>5</td>\n",
                            "      <td>4</td>\n",
                            "      <td>6</td>\n",
                            "      <td>10</td>\n",
                            "      <td>10</td>\n",
                            "    </tr>\n",
                            "  </tbody>\n",
                            "</table>\n",
                            "<p>5 rows × 33 columns</p>\n",
                            "</div>"
                        ]
                    },
                    "metadata": {},
                    "execution_count": 3
                }
            ],
            "metadata": {}
        },
        {
            "cell_type": "code",
            "execution_count": 4,
            "source": [
                "predict = \"G3\"\n",
                "data = df[[\"G1\", \"G2\", \"G3\", \"studytime\", \"famrel\", \"health\"]]\n",
                "X = np.array(data.drop([predict], 1))\n",
                "y = np.array(data[predict])"
            ],
            "outputs": [
                {
                    "output_type": "stream",
                    "name": "stderr",
                    "text": [
                        "<ipython-input-4-79188984fe30>:3: FutureWarning: In a future version of pandas all arguments of DataFrame.drop except for the argument 'labels' will be keyword-only\n",
                        "  X = np.array(data.drop([predict], 1))\n"
                    ]
                }
            ],
            "metadata": {}
        },
        {
            "cell_type": "markdown",
            "source": [
                "## Creating and training the model"
            ],
            "metadata": {}
        },
        {
            "cell_type": "code",
            "execution_count": 5,
            "source": [
                "X_train, X_val, y_train, y_val = train_test_split(X, y, test_size = 0.10)"
            ],
            "outputs": [],
            "metadata": {}
        },
        {
            "cell_type": "code",
            "execution_count": 6,
            "source": [
                "model = LinearRegression().fit(X_train, y_train)\n",
                "print(\"Training accuracy: \", model.score(X_train, y_train))\n",
                "print(\"Intercept: \", model.intercept_)\n",
                "print(\"Weights: \", model.coef_)"
            ],
            "outputs": [
                {
                    "output_type": "stream",
                    "name": "stdout",
                    "text": [
                        "Training accuracy:  0.8262491324002031\n",
                        "Intercept:  -3.095263497021433\n",
                        "Weights:  [ 0.15426626  1.00044711 -0.19823018  0.32454595  0.0600401 ]\n"
                    ]
                }
            ],
            "metadata": {}
        },
        {
            "cell_type": "markdown",
            "source": [
                "## Evaluating the model"
            ],
            "metadata": {}
        },
        {
            "cell_type": "code",
            "execution_count": 7,
            "source": [
                "y_pred = model.predict(X_val)\n",
                "print(\"Model accuracy: \", model.score(X_val, y_val))"
            ],
            "outputs": [
                {
                    "output_type": "stream",
                    "name": "stdout",
                    "text": [
                        "Model accuracy:  0.8456869984396834\n"
                    ]
                }
            ],
            "metadata": {}
        },
        {
            "cell_type": "code",
            "execution_count": 8,
            "source": [
                "print(\"Mean absolute error: \", metrics.mean_absolute_error(y_val, y_pred))\n",
                "print(\"Mean squared error: \", metrics.mean_squared_error(y_val, y_pred))\n",
                "print(\"Root mean squared error: \", np.sqrt(metrics.mean_squared_error(y_val, y_pred)))"
            ],
            "outputs": [
                {
                    "output_type": "stream",
                    "name": "stdout",
                    "text": [
                        "Mean absolute error:  0.9950035204787799\n",
                        "Mean squared error:  2.2140057898866425\n",
                        "Root mean squared error:  1.487953557704891\n"
                    ]
                }
            ],
            "metadata": {}
        },
        {
            "cell_type": "code",
            "execution_count": 9,
            "source": [
                "compare = pd.DataFrame({'Actual': y_val, 'Predicted': y_pred})\n",
                "print(compare.head(10))"
            ],
            "outputs": [
                {
                    "output_type": "stream",
                    "name": "stdout",
                    "text": [
                        "   Actual  Predicted\n",
                        "0       9   9.780110\n",
                        "1      11  12.469984\n",
                        "2      11  11.562559\n",
                        "3      10   8.344815\n",
                        "4      11  10.347868\n",
                        "5      10   8.229829\n",
                        "6       0   7.009981\n",
                        "7      12  12.528820\n",
                        "8       8   7.472780\n",
                        "9      14  15.427361\n"
                    ]
                }
            ],
            "metadata": {}
        },
        {
            "cell_type": "markdown",
            "source": [
                "## Conclusions\n",
                "\n",
                "The model's weights demonstrated that the most recent term's grade was the most significant predictor of a student's final grade. This was expected as a student progresses through a class, it is typically more difficult for their grade to change as new grades are more likely to be weighted less and less. \n",
                "\n",
                "There are some interesting results about the model. First, a student's relationship with their family was more important than I had previously thought. This can be easily rationalized, but I didn't expect it. Secondly, studytime was given a negative weight. I recall some negative correlation with grades and studytime in my personal experience, but I was not convinced this could be the case in general."
            ],
            "metadata": {}
        }
    ],
    "metadata": {
        "orig_nbformat": 4,
        "language_info": {
            "name": "python",
            "version": "3.9.1",
            "mimetype": "text/x-python",
            "codemirror_mode": {
                "name": "ipython",
                "version": 3
            },
            "pygments_lexer": "ipython3",
            "nbconvert_exporter": "python",
            "file_extension": ".py"
        },
        "kernelspec": {
            "name": "python3",
            "display_name": "Python 3.9.1 64-bit ('base': conda)"
        },
        "interpreter": {
            "hash": "569d6b7e9215e11aba41c6454007e5c1b78bad7df09dab765d8cf00362c40f03"
        }
    },
    "nbformat": 4,
    "nbformat_minor": 2
}