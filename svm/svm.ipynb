{
 "cells": [
  {
   "cell_type": "code",
   "execution_count": null,
   "metadata": {},
   "outputs": [],
   "source": [
    "import numpy as np\n",
    "import pandas as pd"
   ]
  },
  {
   "cell_type": "code",
   "execution_count": null,
   "metadata": {},
   "outputs": [],
   "source": [
    "sentiment = pd.read_csv(\"data/tweets_sentiment.csv\")\n",
    "sentiment.drop(sentiment.columns[[0]], axis=1, inplace=True)\n",
    "sentiment.rename(columns = {'created_at':'Date'}, inplace = True)\n",
    "spy = pd.read_csv(\"data/SPY.csv\")"
   ]
  },
  {
   "cell_type": "code",
   "execution_count": null,
   "metadata": {},
   "outputs": [],
   "source": [
    "df = pd.merge(sentiment, spy, on ='Date', how =\"inner\")"
   ]
  },
  {
   "cell_type": "code",
   "execution_count": null,
   "metadata": {},
   "outputs": [],
   "source": [
    "opn = {'Date': [df['Date'][i] for i in range(3,len(df))], \\\n",
    "       'Movement': [1 if df['Open'][i] - df['Open'][i-1] > 0 else 0 for i in range(3,len(df))], \\\n",
    "       'Open1': [df['Open'][i-1] for i in range(3,len(df))], \\\n",
    "       'Open2': [df['Open'][i-2] for i in range(3,len(df))], \\\n",
    "       'Open3': [df['Open'][i-3] for i in range(3,len(df))]}\n",
    "\n",
    "sen = {'Date': [df['Date'][i] for i in range(3,len(df))], \\\n",
    "       'Sentiment1': [df['compound'][i-1] for i in range(3,len(df))], \\\n",
    "       'Sentiment2': [df['compound'][i-2] for i in range(3,len(df))], \\\n",
    "       'Sentiment3': [df['compound'][i-3] for i in range(3,len(df))]}"
   ]
  },
  {
   "cell_type": "code",
   "execution_count": null,
   "metadata": {},
   "outputs": [],
   "source": [
    "o = pd.DataFrame(opn)\n",
    "s = pd.DataFrame(sen)\n",
    "data = pd.merge(o, s, on='Date', how='inner')"
   ]
  },
  {
   "cell_type": "code",
   "execution_count": null,
   "metadata": {},
   "outputs": [],
   "source": [
    "data.head()"
   ]
  },
  {
   "cell_type": "markdown",
   "metadata": {},
   "source": [
    "## Training Model"
   ]
  },
  {
   "cell_type": "code",
   "execution_count": null,
   "metadata": {},
   "outputs": [],
   "source": [
    "from sklearn.model_selection import train_test_split\n",
    "X = data[data.columns[2:]]\n",
    "y = data[data.columns[1]]\n",
    "X_train, X_test, y_train, y_test =train_test_split(X, y, test_size=0.3)"
   ]
  },
  {
   "cell_type": "code",
   "execution_count": null,
   "metadata": {},
   "outputs": [],
   "source": [
    "positives = sum([1 if y[i] == 1 else 0 for i in range(len(y))])\n",
    "negatives = len(y) - positives\n",
    "print(\"Positive: \", positives)\n",
    "print(\"Negative: \", negatives)"
   ]
  },
  {
   "cell_type": "code",
   "execution_count": null,
   "metadata": {},
   "outputs": [],
   "source": [
    "from sklearn.preprocessing import StandardScaler\n",
    "scaler = StandardScaler() \n",
    "X_train = scaler.fit_transform(X_train)\n",
    "X_test = scaler.fit_transform(X_test)"
   ]
  },
  {
   "cell_type": "markdown",
   "metadata": {},
   "source": [
    "## Testing different kernels"
   ]
  },
  {
   "cell_type": "code",
   "execution_count": null,
   "metadata": {},
   "outputs": [],
   "source": [
    "from sklearn.svm import SVC\n",
    "from sklearn.metrics import accuracy_score\n",
    "kernels = ['linear', 'rbf', 'poly', 'sigmoid']\n",
    "acc = {}\n",
    "pred = {}"
   ]
  },
  {
   "cell_type": "code",
   "execution_count": null,
   "metadata": {},
   "outputs": [],
   "source": [
    "for k in kernels:\n",
    "    classifier = SVC(kernel=k)\n",
    "    classifier.fit(X_train, y_train)\n",
    "    y_pred = classifier.predict(X_test)\n",
    "    acc[k] = accuracy_score(y_test, y_pred)\n",
    "    pred[k] = y_pred\n",
    "    "
   ]
  },
  {
   "cell_type": "code",
   "execution_count": null,
   "metadata": {},
   "outputs": [],
   "source": [
    "from sklearn.metrics import classification_report\n",
    "best_kernels = [k for k,v in acc.items() if v == max(acc.values())]\n",
    "print(best_kernels)\n",
    "print(\"Classification report of\", best_kernels[0], \"kernel\")\n",
    "print(classification_report(y_test, pred[best_kernels[0]]));"
   ]
  },
  {
   "cell_type": "markdown",
   "metadata": {},
   "source": [
    "## Comparing Best Model with SVM Trained Only on Price"
   ]
  },
  {
   "cell_type": "code",
   "execution_count": null,
   "metadata": {},
   "outputs": [],
   "source": [
    "X_train = [p[:3] for p in X_train]\n",
    "X_test = [p[:3] for p in X_test]"
   ]
  },
  {
   "cell_type": "code",
   "execution_count": null,
   "metadata": {},
   "outputs": [],
   "source": [
    "classifier = SVC(kernel=best_kernels[0])\n",
    "classifier.fit(X_train, y_train)\n",
    "y_pred = classifier.predict(X_test)"
   ]
  },
  {
   "cell_type": "code",
   "execution_count": null,
   "metadata": {},
   "outputs": [],
   "source": [
    "from sklearn.metrics import classification_report\n",
    "print(\"Classification report of\", best_kernels[0], \"kernel\")\n",
    "print(classification_report(y_test,y_pred));"
   ]
  },
  {
   "cell_type": "code",
   "execution_count": null,
   "metadata": {},
   "outputs": [],
   "source": []
  }
 ],
 "metadata": {
  "interpreter": {
   "hash": "c59643840aeeee69b70a6e3ce381fb18b881a964938277a977cdf58318ef8b41"
  },
  "kernelspec": {
   "display_name": "Python 3.9.7 64-bit ('vip': conda)",
   "name": "python3"
  },
  "language_info": {
   "codemirror_mode": {
    "name": "ipython",
    "version": 3
   },
   "file_extension": ".py",
   "mimetype": "text/x-python",
   "name": "python",
   "nbconvert_exporter": "python",
   "pygments_lexer": "ipython3",
   "version": "3.9.7"
  },
  "orig_nbformat": 4
 },
 "nbformat": 4,
 "nbformat_minor": 2
}
