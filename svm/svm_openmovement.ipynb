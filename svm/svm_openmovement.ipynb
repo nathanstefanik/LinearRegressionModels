{
 "cells": [
  {
   "cell_type": "code",
   "execution_count": 1,
   "metadata": {},
   "outputs": [],
   "source": [
    "import numpy as np\n",
    "import pandas as pd"
   ]
  },
  {
   "cell_type": "code",
   "execution_count": 2,
   "metadata": {},
   "outputs": [],
   "source": [
    "sentiment = pd.read_csv(\"data/tweets_sentiment.csv\")\n",
    "sentiment.drop(sentiment.columns[[0]], axis=1, inplace=True)\n",
    "sentiment.rename(columns = {'created_at':'Date'}, inplace = True)\n",
    "spy = pd.read_csv(\"data/SPY.csv\")"
   ]
  },
  {
   "cell_type": "code",
   "execution_count": 33,
   "metadata": {},
   "outputs": [
    {
     "data": {
      "text/html": [
       "<div>\n",
       "<style scoped>\n",
       "    .dataframe tbody tr th:only-of-type {\n",
       "        vertical-align: middle;\n",
       "    }\n",
       "\n",
       "    .dataframe tbody tr th {\n",
       "        vertical-align: top;\n",
       "    }\n",
       "\n",
       "    .dataframe thead th {\n",
       "        text-align: right;\n",
       "    }\n",
       "</style>\n",
       "<table border=\"1\" class=\"dataframe\">\n",
       "  <thead>\n",
       "    <tr style=\"text-align: right;\">\n",
       "      <th></th>\n",
       "      <th>Date</th>\n",
       "      <th>pos_score</th>\n",
       "      <th>neu_score</th>\n",
       "      <th>neg_score</th>\n",
       "      <th>compound</th>\n",
       "      <th>Open</th>\n",
       "      <th>High</th>\n",
       "      <th>Low</th>\n",
       "      <th>Close</th>\n",
       "      <th>Adj Close</th>\n",
       "      <th>Volume</th>\n",
       "    </tr>\n",
       "  </thead>\n",
       "  <tbody>\n",
       "    <tr>\n",
       "      <th>0</th>\n",
       "      <td>2020-04-09</td>\n",
       "      <td>0.073174</td>\n",
       "      <td>0.887866</td>\n",
       "      <td>0.038960</td>\n",
       "      <td>0.114438</td>\n",
       "      <td>277.579987</td>\n",
       "      <td>281.200012</td>\n",
       "      <td>275.470001</td>\n",
       "      <td>278.200012</td>\n",
       "      <td>271.092224</td>\n",
       "      <td>189999200</td>\n",
       "    </tr>\n",
       "    <tr>\n",
       "      <th>1</th>\n",
       "      <td>2020-04-13</td>\n",
       "      <td>0.076010</td>\n",
       "      <td>0.887225</td>\n",
       "      <td>0.036771</td>\n",
       "      <td>0.122273</td>\n",
       "      <td>277.140015</td>\n",
       "      <td>277.510010</td>\n",
       "      <td>271.410004</td>\n",
       "      <td>275.660004</td>\n",
       "      <td>268.617126</td>\n",
       "      <td>114839100</td>\n",
       "    </tr>\n",
       "    <tr>\n",
       "      <th>2</th>\n",
       "      <td>2020-04-14</td>\n",
       "      <td>0.083978</td>\n",
       "      <td>0.871450</td>\n",
       "      <td>0.044567</td>\n",
       "      <td>0.136125</td>\n",
       "      <td>280.980011</td>\n",
       "      <td>284.899994</td>\n",
       "      <td>275.510010</td>\n",
       "      <td>283.790009</td>\n",
       "      <td>276.539368</td>\n",
       "      <td>134143400</td>\n",
       "    </tr>\n",
       "    <tr>\n",
       "      <th>3</th>\n",
       "      <td>2020-04-15</td>\n",
       "      <td>0.083737</td>\n",
       "      <td>0.875221</td>\n",
       "      <td>0.041041</td>\n",
       "      <td>0.152802</td>\n",
       "      <td>277.570007</td>\n",
       "      <td>283.940002</td>\n",
       "      <td>275.459991</td>\n",
       "      <td>277.760010</td>\n",
       "      <td>270.663422</td>\n",
       "      <td>121775000</td>\n",
       "    </tr>\n",
       "    <tr>\n",
       "      <th>4</th>\n",
       "      <td>2020-04-16</td>\n",
       "      <td>0.081858</td>\n",
       "      <td>0.878151</td>\n",
       "      <td>0.039988</td>\n",
       "      <td>0.127939</td>\n",
       "      <td>279.149994</td>\n",
       "      <td>280.029999</td>\n",
       "      <td>275.760010</td>\n",
       "      <td>279.100006</td>\n",
       "      <td>271.969208</td>\n",
       "      <td>131798300</td>\n",
       "    </tr>\n",
       "  </tbody>\n",
       "</table>\n",
       "</div>"
      ],
      "text/plain": [
       "         Date  pos_score  neu_score  neg_score  compound        Open  \\\n",
       "0  2020-04-09   0.073174   0.887866   0.038960  0.114438  277.579987   \n",
       "1  2020-04-13   0.076010   0.887225   0.036771  0.122273  277.140015   \n",
       "2  2020-04-14   0.083978   0.871450   0.044567  0.136125  280.980011   \n",
       "3  2020-04-15   0.083737   0.875221   0.041041  0.152802  277.570007   \n",
       "4  2020-04-16   0.081858   0.878151   0.039988  0.127939  279.149994   \n",
       "\n",
       "         High         Low       Close   Adj Close     Volume  \n",
       "0  281.200012  275.470001  278.200012  271.092224  189999200  \n",
       "1  277.510010  271.410004  275.660004  268.617126  114839100  \n",
       "2  284.899994  275.510010  283.790009  276.539368  134143400  \n",
       "3  283.940002  275.459991  277.760010  270.663422  121775000  \n",
       "4  280.029999  275.760010  279.100006  271.969208  131798300  "
      ]
     },
     "execution_count": 33,
     "metadata": {},
     "output_type": "execute_result"
    }
   ],
   "source": [
    "df = pd.merge(sentiment, spy, on ='Date', how =\"inner\")\n",
    "df.head()"
   ]
  },
  {
   "cell_type": "code",
   "execution_count": 54,
   "metadata": {},
   "outputs": [],
   "source": [
    "opn = {'Date': [df['Date'][i] for i in range(4,len(df))], \\\n",
    "       'Movement': [1 if (df['Open'][i] - df['Open'][i-1]) / (df['Open'][i-1]) > 0.005 else 0 for i in range(4,len(df))], \\\n",
    "       'Move1': [1 if (df['Open'][i-1] - df['Open'][i-2]) / (df['Open'][i-2]) > 0.005 else 0 for i in range(4,len(df))], \\\n",
    "       'Move2': [1 if (df['Open'][i-2] - df['Open'][i-3]) / (df['Open'][i-3]) > 0.005 else 0 for i in range(4,len(df))], \\\n",
    "       'Move3': [1 if (df['Open'][i-3] - df['Open'][i-4]) / (df['Open'][i-4]) > 0.005 else 0 for i in range(4,len(df))]}\n",
    "\n",
    "sen = {'Date': [df['Date'][i] for i in range(4,len(df))], \\\n",
    "       'Sentiment1': [1 if (df['compound'][i] - df['compound'][i-1]) / (df['compound'][i-1]) > 0.005 else 0  for i in range(4,len(df))], \\\n",
    "       'Sentiment2': [1 if (df['compound'][i-1] - df['compound'][i-2]) / (df['compound'][i-2]) > 0.005 else 0 for i in range(4,len(df))], \\\n",
    "       'Sentiment3': [1 if (df['compound'][i-2] - df['compound'][i-3]) / (df['compound'][i-3]) > 0.005 else 0 for i in range(4,len(df))]}"
   ]
  },
  {
   "cell_type": "code",
   "execution_count": 55,
   "metadata": {},
   "outputs": [],
   "source": [
    "o = pd.DataFrame(opn)\n",
    "s = pd.DataFrame(sen)\n",
    "data = pd.merge(o, s, on='Date', how='inner')"
   ]
  },
  {
   "cell_type": "code",
   "execution_count": 56,
   "metadata": {},
   "outputs": [
    {
     "data": {
      "text/html": [
       "<div>\n",
       "<style scoped>\n",
       "    .dataframe tbody tr th:only-of-type {\n",
       "        vertical-align: middle;\n",
       "    }\n",
       "\n",
       "    .dataframe tbody tr th {\n",
       "        vertical-align: top;\n",
       "    }\n",
       "\n",
       "    .dataframe thead th {\n",
       "        text-align: right;\n",
       "    }\n",
       "</style>\n",
       "<table border=\"1\" class=\"dataframe\">\n",
       "  <thead>\n",
       "    <tr style=\"text-align: right;\">\n",
       "      <th></th>\n",
       "      <th>Date</th>\n",
       "      <th>Movement</th>\n",
       "      <th>Move1</th>\n",
       "      <th>Move2</th>\n",
       "      <th>Move3</th>\n",
       "      <th>Sentiment1</th>\n",
       "      <th>Sentiment2</th>\n",
       "      <th>Sentiment3</th>\n",
       "    </tr>\n",
       "  </thead>\n",
       "  <tbody>\n",
       "    <tr>\n",
       "      <th>0</th>\n",
       "      <td>2020-04-16</td>\n",
       "      <td>1</td>\n",
       "      <td>0</td>\n",
       "      <td>1</td>\n",
       "      <td>0</td>\n",
       "      <td>0</td>\n",
       "      <td>1</td>\n",
       "      <td>1</td>\n",
       "    </tr>\n",
       "    <tr>\n",
       "      <th>1</th>\n",
       "      <td>2020-04-17</td>\n",
       "      <td>1</td>\n",
       "      <td>1</td>\n",
       "      <td>0</td>\n",
       "      <td>1</td>\n",
       "      <td>1</td>\n",
       "      <td>0</td>\n",
       "      <td>1</td>\n",
       "    </tr>\n",
       "    <tr>\n",
       "      <th>2</th>\n",
       "      <td>2020-04-20</td>\n",
       "      <td>0</td>\n",
       "      <td>1</td>\n",
       "      <td>1</td>\n",
       "      <td>0</td>\n",
       "      <td>0</td>\n",
       "      <td>1</td>\n",
       "      <td>0</td>\n",
       "    </tr>\n",
       "    <tr>\n",
       "      <th>3</th>\n",
       "      <td>2020-04-21</td>\n",
       "      <td>0</td>\n",
       "      <td>0</td>\n",
       "      <td>1</td>\n",
       "      <td>1</td>\n",
       "      <td>0</td>\n",
       "      <td>0</td>\n",
       "      <td>1</td>\n",
       "    </tr>\n",
       "    <tr>\n",
       "      <th>4</th>\n",
       "      <td>2020-04-22</td>\n",
       "      <td>1</td>\n",
       "      <td>0</td>\n",
       "      <td>0</td>\n",
       "      <td>1</td>\n",
       "      <td>1</td>\n",
       "      <td>0</td>\n",
       "      <td>0</td>\n",
       "    </tr>\n",
       "  </tbody>\n",
       "</table>\n",
       "</div>"
      ],
      "text/plain": [
       "         Date  Movement  Move1  Move2  Move3  Sentiment1  Sentiment2  \\\n",
       "0  2020-04-16         1      0      1      0           0           1   \n",
       "1  2020-04-17         1      1      0      1           1           0   \n",
       "2  2020-04-20         0      1      1      0           0           1   \n",
       "3  2020-04-21         0      0      1      1           0           0   \n",
       "4  2020-04-22         1      0      0      1           1           0   \n",
       "\n",
       "   Sentiment3  \n",
       "0           1  \n",
       "1           1  \n",
       "2           0  \n",
       "3           1  \n",
       "4           0  "
      ]
     },
     "execution_count": 56,
     "metadata": {},
     "output_type": "execute_result"
    }
   ],
   "source": [
    "data.head()"
   ]
  },
  {
   "cell_type": "markdown",
   "metadata": {},
   "source": [
    "## Training Model"
   ]
  },
  {
   "cell_type": "code",
   "execution_count": 57,
   "metadata": {},
   "outputs": [],
   "source": [
    "from sklearn.model_selection import train_test_split\n",
    "X = data[data.columns[2:]]\n",
    "y = data[data.columns[1]]\n",
    "X_train, X_test, y_train, y_test =train_test_split(X, y, test_size=0.3)"
   ]
  },
  {
   "cell_type": "code",
   "execution_count": 58,
   "metadata": {},
   "outputs": [
    {
     "name": "stdout",
     "output_type": "stream",
     "text": [
      "Positive:  24\n",
      "Negative:  25\n"
     ]
    }
   ],
   "source": [
    "positives = sum([1 if y[i] == 1 else 0 for i in range(len(y))])\n",
    "negatives = len(y) - positives\n",
    "print(\"Positive: \", positives)\n",
    "print(\"Negative: \", negatives)"
   ]
  },
  {
   "cell_type": "code",
   "execution_count": 59,
   "metadata": {},
   "outputs": [],
   "source": [
    "from sklearn.preprocessing import StandardScaler\n",
    "scaler = StandardScaler() \n",
    "X_train = scaler.fit_transform(X_train)\n",
    "X_test = scaler.fit_transform(X_test)"
   ]
  },
  {
   "cell_type": "markdown",
   "metadata": {},
   "source": [
    "### Linear Kernel"
   ]
  },
  {
   "cell_type": "code",
   "execution_count": 60,
   "metadata": {},
   "outputs": [
    {
     "name": "stdout",
     "output_type": "stream",
     "text": [
      "[LibSVM].\n",
      "Warning: using -h 0 may be faster\n"
     ]
    },
    {
     "data": {
      "text/plain": [
       "SVC(kernel='linear', verbose=True)"
      ]
     },
     "execution_count": 60,
     "metadata": {},
     "output_type": "execute_result"
    },
    {
     "name": "stdout",
     "output_type": "stream",
     "text": [
      "*\n",
      "optimization finished, #iter = 62\n",
      "obj = -19.493252, rho = -0.531275\n",
      "nSV = 24, nBSV = 15\n",
      "Total nSV = 24\n"
     ]
    }
   ],
   "source": [
    "from sklearn.svm import SVC\n",
    "classifier = SVC(kernel='linear',verbose=True)\n",
    "classifier.fit(X_train, y_train)"
   ]
  },
  {
   "cell_type": "code",
   "execution_count": 61,
   "metadata": {},
   "outputs": [],
   "source": [
    "y_pred = classifier.predict(X_test)"
   ]
  },
  {
   "cell_type": "code",
   "execution_count": 62,
   "metadata": {},
   "outputs": [
    {
     "name": "stdout",
     "output_type": "stream",
     "text": [
      "              precision    recall  f1-score   support\n",
      "\n",
      "           0       0.45      1.00      0.62         5\n",
      "           1       1.00      0.40      0.57        10\n",
      "\n",
      "    accuracy                           0.60        15\n",
      "   macro avg       0.73      0.70      0.60        15\n",
      "weighted avg       0.82      0.60      0.59        15\n",
      "\n"
     ]
    }
   ],
   "source": [
    "from sklearn.metrics import classification_report\n",
    "print(classification_report(y_test, y_pred));"
   ]
  },
  {
   "cell_type": "markdown",
   "metadata": {},
   "source": [
    "### RBF Kernel"
   ]
  },
  {
   "cell_type": "code",
   "execution_count": 63,
   "metadata": {},
   "outputs": [
    {
     "name": "stdout",
     "output_type": "stream",
     "text": [
      "[LibSVM]*\n",
      "optimization finished, #iter = 33\n",
      "obj = -19.773839, rho = -0.414048\n",
      "nSV = 31, nBSV = 18\n",
      "Total nSV = 31\n"
     ]
    },
    {
     "data": {
      "text/plain": [
       "SVC(verbose=True)"
      ]
     },
     "execution_count": 63,
     "metadata": {},
     "output_type": "execute_result"
    }
   ],
   "source": [
    "classifier = SVC(kernel='rbf',verbose=True)\n",
    "classifier.fit(X_train, y_train)"
   ]
  },
  {
   "cell_type": "code",
   "execution_count": 64,
   "metadata": {},
   "outputs": [],
   "source": [
    "y_pred = classifier.predict(X_test)"
   ]
  },
  {
   "cell_type": "code",
   "execution_count": 65,
   "metadata": {},
   "outputs": [
    {
     "name": "stdout",
     "output_type": "stream",
     "text": [
      "              precision    recall  f1-score   support\n",
      "\n",
      "           0       0.50      1.00      0.67         5\n",
      "           1       1.00      0.50      0.67        10\n",
      "\n",
      "    accuracy                           0.67        15\n",
      "   macro avg       0.75      0.75      0.67        15\n",
      "weighted avg       0.83      0.67      0.67        15\n",
      "\n"
     ]
    }
   ],
   "source": [
    "print(classification_report(y_test, y_pred));"
   ]
  },
  {
   "cell_type": "markdown",
   "metadata": {},
   "source": [
    "### Polynomial Kernel"
   ]
  },
  {
   "cell_type": "code",
   "execution_count": 66,
   "metadata": {},
   "outputs": [
    {
     "name": "stdout",
     "output_type": "stream",
     "text": [
      "[LibSVM]"
     ]
    },
    {
     "data": {
      "text/plain": [
       "SVC(kernel='poly', verbose=True)"
      ]
     },
     "execution_count": 66,
     "metadata": {},
     "output_type": "execute_result"
    },
    {
     "name": "stdout",
     "output_type": "stream",
     "text": [
      "*\n",
      "optimization finished, #iter = 29\n",
      "obj = -19.309641, rho = -0.109694\n",
      "nSV = 29, nBSV = 23\n",
      "Total nSV = 29\n"
     ]
    }
   ],
   "source": [
    "classifier = SVC(kernel='poly',verbose=True)\n",
    "classifier.fit(X_train, y_train)"
   ]
  },
  {
   "cell_type": "code",
   "execution_count": 67,
   "metadata": {},
   "outputs": [],
   "source": [
    "y_pred = classifier.predict(X_test)"
   ]
  },
  {
   "cell_type": "code",
   "execution_count": 68,
   "metadata": {},
   "outputs": [
    {
     "name": "stdout",
     "output_type": "stream",
     "text": [
      "              precision    recall  f1-score   support\n",
      "\n",
      "           0       0.22      0.40      0.29         5\n",
      "           1       0.50      0.30      0.37        10\n",
      "\n",
      "    accuracy                           0.33        15\n",
      "   macro avg       0.36      0.35      0.33        15\n",
      "weighted avg       0.41      0.33      0.35        15\n",
      "\n"
     ]
    }
   ],
   "source": [
    "print(classification_report(y_test, y_pred));"
   ]
  },
  {
   "cell_type": "markdown",
   "metadata": {},
   "source": [
    "### Sigmoid Kernel"
   ]
  },
  {
   "cell_type": "code",
   "execution_count": 69,
   "metadata": {},
   "outputs": [
    {
     "name": "stdout",
     "output_type": "stream",
     "text": [
      "[LibSVM].*"
     ]
    },
    {
     "data": {
      "text/plain": [
       "SVC(kernel='sigmoid', verbose=True)"
      ]
     },
     "execution_count": 69,
     "metadata": {},
     "output_type": "execute_result"
    },
    {
     "name": "stdout",
     "output_type": "stream",
     "text": [
      ".*\n",
      "optimization finished, #iter = 69\n",
      "obj = -23.980124, rho = -0.521266\n",
      "nSV = 30, nBSV = 22\n",
      "Total nSV = 30\n"
     ]
    }
   ],
   "source": [
    "classifier = SVC(kernel='sigmoid',verbose=True)\n",
    "classifier.fit(X_train, y_train)"
   ]
  },
  {
   "cell_type": "code",
   "execution_count": 70,
   "metadata": {},
   "outputs": [],
   "source": [
    "y_pred = classifier.predict(X_test)"
   ]
  },
  {
   "cell_type": "code",
   "execution_count": 71,
   "metadata": {},
   "outputs": [
    {
     "name": "stdout",
     "output_type": "stream",
     "text": [
      "              precision    recall  f1-score   support\n",
      "\n",
      "           0       0.50      1.00      0.67         5\n",
      "           1       1.00      0.50      0.67        10\n",
      "\n",
      "    accuracy                           0.67        15\n",
      "   macro avg       0.75      0.75      0.67        15\n",
      "weighted avg       0.83      0.67      0.67        15\n",
      "\n"
     ]
    }
   ],
   "source": [
    "print(classification_report(y_test, y_pred));"
   ]
  },
  {
   "cell_type": "code",
   "execution_count": null,
   "metadata": {},
   "outputs": [],
   "source": []
  }
 ],
 "metadata": {
  "interpreter": {
   "hash": "c59643840aeeee69b70a6e3ce381fb18b881a964938277a977cdf58318ef8b41"
  },
  "kernelspec": {
   "display_name": "Python 3.9.7 64-bit ('vip': conda)",
   "name": "python3"
  },
  "language_info": {
   "codemirror_mode": {
    "name": "ipython",
    "version": 3
   },
   "file_extension": ".py",
   "mimetype": "text/x-python",
   "name": "python",
   "nbconvert_exporter": "python",
   "pygments_lexer": "ipython3",
   "version": "3.9.7"
  },
  "orig_nbformat": 4
 },
 "nbformat": 4,
 "nbformat_minor": 2
}
