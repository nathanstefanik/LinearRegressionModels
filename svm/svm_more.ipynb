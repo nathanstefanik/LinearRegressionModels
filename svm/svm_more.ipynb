{
 "cells": [
  {
   "cell_type": "code",
   "execution_count": 46,
   "metadata": {},
   "outputs": [],
   "source": [
    "import numpy as np\n",
    "import pandas as pd"
   ]
  },
  {
   "cell_type": "code",
   "execution_count": 47,
   "metadata": {},
   "outputs": [],
   "source": [
    "sentiment = pd.read_csv(\"data/tweets_sentiment.csv\")\n",
    "sentiment.drop(sentiment.columns[[0]], axis=1, inplace=True)\n",
    "sentiment.rename(columns = {'created_at':'Date'}, inplace = True)\n",
    "spy = pd.read_csv(\"data/SPY.csv\")"
   ]
  },
  {
   "cell_type": "code",
   "execution_count": 48,
   "metadata": {},
   "outputs": [
    {
     "data": {
      "text/html": [
       "<div>\n",
       "<style scoped>\n",
       "    .dataframe tbody tr th:only-of-type {\n",
       "        vertical-align: middle;\n",
       "    }\n",
       "\n",
       "    .dataframe tbody tr th {\n",
       "        vertical-align: top;\n",
       "    }\n",
       "\n",
       "    .dataframe thead th {\n",
       "        text-align: right;\n",
       "    }\n",
       "</style>\n",
       "<table border=\"1\" class=\"dataframe\">\n",
       "  <thead>\n",
       "    <tr style=\"text-align: right;\">\n",
       "      <th></th>\n",
       "      <th>Date</th>\n",
       "      <th>pos_score</th>\n",
       "      <th>neu_score</th>\n",
       "      <th>neg_score</th>\n",
       "      <th>compound</th>\n",
       "      <th>Open</th>\n",
       "      <th>High</th>\n",
       "      <th>Low</th>\n",
       "      <th>Close</th>\n",
       "      <th>Adj Close</th>\n",
       "      <th>Volume</th>\n",
       "    </tr>\n",
       "  </thead>\n",
       "  <tbody>\n",
       "    <tr>\n",
       "      <th>0</th>\n",
       "      <td>2020-04-09</td>\n",
       "      <td>0.073174</td>\n",
       "      <td>0.887866</td>\n",
       "      <td>0.038960</td>\n",
       "      <td>0.114438</td>\n",
       "      <td>277.579987</td>\n",
       "      <td>281.200012</td>\n",
       "      <td>275.470001</td>\n",
       "      <td>278.200012</td>\n",
       "      <td>271.092224</td>\n",
       "      <td>189999200</td>\n",
       "    </tr>\n",
       "    <tr>\n",
       "      <th>1</th>\n",
       "      <td>2020-04-13</td>\n",
       "      <td>0.076010</td>\n",
       "      <td>0.887225</td>\n",
       "      <td>0.036771</td>\n",
       "      <td>0.122273</td>\n",
       "      <td>277.140015</td>\n",
       "      <td>277.510010</td>\n",
       "      <td>271.410004</td>\n",
       "      <td>275.660004</td>\n",
       "      <td>268.617126</td>\n",
       "      <td>114839100</td>\n",
       "    </tr>\n",
       "    <tr>\n",
       "      <th>2</th>\n",
       "      <td>2020-04-14</td>\n",
       "      <td>0.083978</td>\n",
       "      <td>0.871450</td>\n",
       "      <td>0.044567</td>\n",
       "      <td>0.136125</td>\n",
       "      <td>280.980011</td>\n",
       "      <td>284.899994</td>\n",
       "      <td>275.510010</td>\n",
       "      <td>283.790009</td>\n",
       "      <td>276.539368</td>\n",
       "      <td>134143400</td>\n",
       "    </tr>\n",
       "    <tr>\n",
       "      <th>3</th>\n",
       "      <td>2020-04-15</td>\n",
       "      <td>0.083737</td>\n",
       "      <td>0.875221</td>\n",
       "      <td>0.041041</td>\n",
       "      <td>0.152802</td>\n",
       "      <td>277.570007</td>\n",
       "      <td>283.940002</td>\n",
       "      <td>275.459991</td>\n",
       "      <td>277.760010</td>\n",
       "      <td>270.663422</td>\n",
       "      <td>121775000</td>\n",
       "    </tr>\n",
       "    <tr>\n",
       "      <th>4</th>\n",
       "      <td>2020-04-16</td>\n",
       "      <td>0.081858</td>\n",
       "      <td>0.878151</td>\n",
       "      <td>0.039988</td>\n",
       "      <td>0.127939</td>\n",
       "      <td>279.149994</td>\n",
       "      <td>280.029999</td>\n",
       "      <td>275.760010</td>\n",
       "      <td>279.100006</td>\n",
       "      <td>271.969208</td>\n",
       "      <td>131798300</td>\n",
       "    </tr>\n",
       "  </tbody>\n",
       "</table>\n",
       "</div>"
      ],
      "text/plain": [
       "         Date  pos_score  neu_score  neg_score  compound        Open  \\\n",
       "0  2020-04-09   0.073174   0.887866   0.038960  0.114438  277.579987   \n",
       "1  2020-04-13   0.076010   0.887225   0.036771  0.122273  277.140015   \n",
       "2  2020-04-14   0.083978   0.871450   0.044567  0.136125  280.980011   \n",
       "3  2020-04-15   0.083737   0.875221   0.041041  0.152802  277.570007   \n",
       "4  2020-04-16   0.081858   0.878151   0.039988  0.127939  279.149994   \n",
       "\n",
       "         High         Low       Close   Adj Close     Volume  \n",
       "0  281.200012  275.470001  278.200012  271.092224  189999200  \n",
       "1  277.510010  271.410004  275.660004  268.617126  114839100  \n",
       "2  284.899994  275.510010  283.790009  276.539368  134143400  \n",
       "3  283.940002  275.459991  277.760010  270.663422  121775000  \n",
       "4  280.029999  275.760010  279.100006  271.969208  131798300  "
      ]
     },
     "execution_count": 48,
     "metadata": {},
     "output_type": "execute_result"
    }
   ],
   "source": [
    "df = pd.merge(sentiment, spy, on ='Date', how =\"inner\")\n",
    "df.head()"
   ]
  },
  {
   "cell_type": "code",
   "execution_count": 49,
   "metadata": {},
   "outputs": [],
   "source": [
    "finance = {'Date': [df['Date'][i] for i in range(4,len(df))], \\\n",
    "       'Movement': [1 if df['Open'][i] - df['Open'][i-1] > 0 else 0 for i in range(4,len(df))], \\\n",
    "       'Open1': [df['Open'][i-1] for i in range(4,len(df))], \\\n",
    "       'Open2': [df['Open'][i-2] for i in range(4,len(df))], \\\n",
    "       'Open3': [df['Open'][i-3] for i in range(4,len(df))], \\\n",
    "       'Vol1': [(df['Open'][i-1] - df['Open'][i-2]) / (df['Open'][i-2])*100 for i in range(4,len(df))], \\\n",
    "       'Vol2': [(df['Open'][i-2] - df['Open'][i-3]) / (df['Open'][i-3])*100 for i in range(4,len(df))], \\\n",
    "       'Vol3': [(df['Open'][i-3] - df['Open'][i-4]) / (df['Open'][i-4])*100 for i in range(4,len(df))]}\n",
    "\n",
    "sen = {'Date': [df['Date'][i] for i in range(4,len(df))], \\\n",
    "       'Sentiment1': [df['compound'][i-1]*100 for i in range(4,len(df))], \\\n",
    "       'Sentiment2': [df['compound'][i-2]*100 for i in range(4,len(df))], \\\n",
    "       'Sentiment3': [df['compound'][i-3]*100 for i in range(4,len(df))]}"
   ]
  },
  {
   "cell_type": "code",
   "execution_count": 50,
   "metadata": {},
   "outputs": [],
   "source": [
    "f = pd.DataFrame(finance)\n",
    "s = pd.DataFrame(sen)\n",
    "data = pd.merge(f, s, on='Date', how='inner')"
   ]
  },
  {
   "cell_type": "code",
   "execution_count": 51,
   "metadata": {},
   "outputs": [
    {
     "data": {
      "text/html": [
       "<div>\n",
       "<style scoped>\n",
       "    .dataframe tbody tr th:only-of-type {\n",
       "        vertical-align: middle;\n",
       "    }\n",
       "\n",
       "    .dataframe tbody tr th {\n",
       "        vertical-align: top;\n",
       "    }\n",
       "\n",
       "    .dataframe thead th {\n",
       "        text-align: right;\n",
       "    }\n",
       "</style>\n",
       "<table border=\"1\" class=\"dataframe\">\n",
       "  <thead>\n",
       "    <tr style=\"text-align: right;\">\n",
       "      <th></th>\n",
       "      <th>Date</th>\n",
       "      <th>Movement</th>\n",
       "      <th>Open1</th>\n",
       "      <th>Open2</th>\n",
       "      <th>Open3</th>\n",
       "      <th>Vol1</th>\n",
       "      <th>Vol2</th>\n",
       "      <th>Vol3</th>\n",
       "      <th>Sentiment1</th>\n",
       "      <th>Sentiment2</th>\n",
       "      <th>Sentiment3</th>\n",
       "    </tr>\n",
       "  </thead>\n",
       "  <tbody>\n",
       "    <tr>\n",
       "      <th>0</th>\n",
       "      <td>2020-04-16</td>\n",
       "      <td>1</td>\n",
       "      <td>277.570007</td>\n",
       "      <td>280.980011</td>\n",
       "      <td>277.140015</td>\n",
       "      <td>-1.213611</td>\n",
       "      <td>1.385580</td>\n",
       "      <td>-0.158503</td>\n",
       "      <td>15.280185</td>\n",
       "      <td>13.612527</td>\n",
       "      <td>12.227275</td>\n",
       "    </tr>\n",
       "    <tr>\n",
       "      <th>1</th>\n",
       "      <td>2020-04-17</td>\n",
       "      <td>1</td>\n",
       "      <td>279.149994</td>\n",
       "      <td>277.570007</td>\n",
       "      <td>280.980011</td>\n",
       "      <td>0.569221</td>\n",
       "      <td>-1.213611</td>\n",
       "      <td>1.385580</td>\n",
       "      <td>12.793906</td>\n",
       "      <td>15.280185</td>\n",
       "      <td>13.612527</td>\n",
       "    </tr>\n",
       "    <tr>\n",
       "      <th>2</th>\n",
       "      <td>2020-04-20</td>\n",
       "      <td>0</td>\n",
       "      <td>285.380005</td>\n",
       "      <td>279.149994</td>\n",
       "      <td>277.570007</td>\n",
       "      <td>2.231779</td>\n",
       "      <td>0.569221</td>\n",
       "      <td>-1.213611</td>\n",
       "      <td>13.009616</td>\n",
       "      <td>12.793906</td>\n",
       "      <td>15.280185</td>\n",
       "    </tr>\n",
       "    <tr>\n",
       "      <th>3</th>\n",
       "      <td>2020-04-21</td>\n",
       "      <td>0</td>\n",
       "      <td>282.609985</td>\n",
       "      <td>285.380005</td>\n",
       "      <td>279.149994</td>\n",
       "      <td>-0.970643</td>\n",
       "      <td>2.231779</td>\n",
       "      <td>0.569221</td>\n",
       "      <td>10.960596</td>\n",
       "      <td>13.009616</td>\n",
       "      <td>12.793906</td>\n",
       "    </tr>\n",
       "    <tr>\n",
       "      <th>4</th>\n",
       "      <td>2020-04-22</td>\n",
       "      <td>1</td>\n",
       "      <td>276.730011</td>\n",
       "      <td>282.609985</td>\n",
       "      <td>285.380005</td>\n",
       "      <td>-2.080597</td>\n",
       "      <td>-0.970643</td>\n",
       "      <td>2.231779</td>\n",
       "      <td>9.882616</td>\n",
       "      <td>10.960596</td>\n",
       "      <td>13.009616</td>\n",
       "    </tr>\n",
       "  </tbody>\n",
       "</table>\n",
       "</div>"
      ],
      "text/plain": [
       "         Date  Movement       Open1       Open2       Open3      Vol1  \\\n",
       "0  2020-04-16         1  277.570007  280.980011  277.140015 -1.213611   \n",
       "1  2020-04-17         1  279.149994  277.570007  280.980011  0.569221   \n",
       "2  2020-04-20         0  285.380005  279.149994  277.570007  2.231779   \n",
       "3  2020-04-21         0  282.609985  285.380005  279.149994 -0.970643   \n",
       "4  2020-04-22         1  276.730011  282.609985  285.380005 -2.080597   \n",
       "\n",
       "       Vol2      Vol3  Sentiment1  Sentiment2  Sentiment3  \n",
       "0  1.385580 -0.158503   15.280185   13.612527   12.227275  \n",
       "1 -1.213611  1.385580   12.793906   15.280185   13.612527  \n",
       "2  0.569221 -1.213611   13.009616   12.793906   15.280185  \n",
       "3  2.231779  0.569221   10.960596   13.009616   12.793906  \n",
       "4 -0.970643  2.231779    9.882616   10.960596   13.009616  "
      ]
     },
     "execution_count": 51,
     "metadata": {},
     "output_type": "execute_result"
    }
   ],
   "source": [
    "data.head()"
   ]
  },
  {
   "cell_type": "markdown",
   "metadata": {},
   "source": [
    "## Training Model"
   ]
  },
  {
   "cell_type": "code",
   "execution_count": 52,
   "metadata": {},
   "outputs": [],
   "source": [
    "from sklearn.model_selection import train_test_split\n",
    "X = data[data.columns[2:]]\n",
    "y = data[data.columns[1]]\n",
    "X_train, X_test, y_train, y_test =train_test_split(X, y, test_size=0.3)"
   ]
  },
  {
   "cell_type": "code",
   "execution_count": 53,
   "metadata": {},
   "outputs": [],
   "source": [
    "from sklearn.preprocessing import StandardScaler\n",
    "scaler = StandardScaler() \n",
    "X_train = scaler.fit_transform(X_train)\n",
    "X_test = scaler.fit_transform(X_test)"
   ]
  },
  {
   "cell_type": "markdown",
   "metadata": {},
   "source": [
    "## Testing different kernels"
   ]
  },
  {
   "cell_type": "code",
   "execution_count": 54,
   "metadata": {},
   "outputs": [],
   "source": [
    "from sklearn.svm import SVC\n",
    "from sklearn.metrics import accuracy_score\n",
    "kernels = ['linear', 'rbf', 'poly', 'sigmoid']\n",
    "acc = {}\n",
    "pred = {}"
   ]
  },
  {
   "cell_type": "code",
   "execution_count": 55,
   "metadata": {},
   "outputs": [],
   "source": [
    "for k in kernels:\n",
    "    classifier = SVC(kernel=k)\n",
    "    classifier.fit(X_train, y_train)\n",
    "    y_pred = classifier.predict(X_test)\n",
    "    acc[k] = accuracy_score(y_test, y_pred)\n",
    "    pred[k] = y_pred"
   ]
  },
  {
   "cell_type": "code",
   "execution_count": 56,
   "metadata": {},
   "outputs": [
    {
     "name": "stdout",
     "output_type": "stream",
     "text": [
      "['sigmoid']\n",
      "Classification report of sigmoid kernel\n",
      "              precision    recall  f1-score   support\n",
      "\n",
      "           0       0.75      0.50      0.60         6\n",
      "           1       0.73      0.89      0.80         9\n",
      "\n",
      "    accuracy                           0.73        15\n",
      "   macro avg       0.74      0.69      0.70        15\n",
      "weighted avg       0.74      0.73      0.72        15\n",
      "\n"
     ]
    }
   ],
   "source": [
    "from sklearn.metrics import classification_report\n",
    "best_kernels = [k for k,v in acc.items() if v == max(acc.values())]\n",
    "print(best_kernels)\n",
    "print(\"Classification report of\", best_kernels[0], \"kernel\")\n",
    "print(classification_report(y_test, pred[best_kernels[0]]));"
   ]
  },
  {
   "cell_type": "markdown",
   "metadata": {},
   "source": [
    "## Comparing Best Model with SVM Trained Only on Price"
   ]
  },
  {
   "cell_type": "code",
   "execution_count": 57,
   "metadata": {},
   "outputs": [],
   "source": [
    "X_train = [p[:len(finance)-2] for p in X_train]\n",
    "X_test = [p[:len(finance)-2] for p in X_test]"
   ]
  },
  {
   "cell_type": "code",
   "execution_count": 58,
   "metadata": {},
   "outputs": [],
   "source": [
    "classifier = SVC(kernel=best_kernels[0])\n",
    "classifier.fit(X_train, y_train)\n",
    "y_pred = classifier.predict(X_test)"
   ]
  },
  {
   "cell_type": "code",
   "execution_count": 59,
   "metadata": {},
   "outputs": [
    {
     "name": "stdout",
     "output_type": "stream",
     "text": [
      "Classification report of sigmoid kernel\n",
      "              precision    recall  f1-score   support\n",
      "\n",
      "           0       0.50      0.50      0.50         6\n",
      "           1       0.67      0.67      0.67         9\n",
      "\n",
      "    accuracy                           0.60        15\n",
      "   macro avg       0.58      0.58      0.58        15\n",
      "weighted avg       0.60      0.60      0.60        15\n",
      "\n"
     ]
    }
   ],
   "source": [
    "from sklearn.metrics import classification_report\n",
    "print(\"Classification report of\", best_kernels[0], \"kernel\")\n",
    "print(classification_report(y_test,y_pred));"
   ]
  }
 ],
 "metadata": {
  "interpreter": {
   "hash": "c59643840aeeee69b70a6e3ce381fb18b881a964938277a977cdf58318ef8b41"
  },
  "kernelspec": {
   "display_name": "Python 3.9.7 64-bit ('vip': conda)",
   "name": "python3"
  },
  "language_info": {
   "codemirror_mode": {
    "name": "ipython",
    "version": 3
   },
   "file_extension": ".py",
   "mimetype": "text/x-python",
   "name": "python",
   "nbconvert_exporter": "python",
   "pygments_lexer": "ipython3",
   "version": "3.9.7"
  },
  "orig_nbformat": 4
 },
 "nbformat": 4,
 "nbformat_minor": 2
}
